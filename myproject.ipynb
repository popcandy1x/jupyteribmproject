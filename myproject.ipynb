{
  "cells": [
    {
      "cell_type": "markdown",
      "metadata": {},
      "source": [
        "# My Jupyter Notebook on IBM Watson Studio\n",
        "\n"
      ]
    },
    {
      "cell_type": "markdown",
      "metadata": {},
      "source": [
        "**Venkatesh Jaiswal**  \n",
        "Upcoming Buisness Analyst"
      ]
    },
    {
      "cell_type": "markdown",
      "metadata": {},
      "source": [
        "*I want to become a data scientist as I like to look into different visual representations of data and to bring out some conclusion from such visual representations seems exciting.*"
      ]
    },
    {
      "cell_type": "markdown",
      "metadata": {},
      "source": [
        "### This code prints the word \"Data Science\" as many times as the no of letters present in the word \"data science\"."
      ]
    },
    {
      "cell_type": "code",
      "execution_count": 2,
      "metadata": {
        "trusted": true
      },
      "outputs": [
        {
          "name": "stdout",
          "output_type": "stream",
          "text": [
            "Data Science\n",
            "\n",
            "Data Science\n",
            "\n",
            "Data Science\n",
            "\n",
            "Data Science\n",
            "\n",
            "Data Science\n",
            "\n",
            "Data Science\n",
            "\n",
            "Data Science\n",
            "\n",
            "Data Science\n",
            "\n",
            "Data Science\n",
            "\n",
            "Data Science\n",
            "\n",
            "Data Science\n",
            "\n"
          ]
        }
      ],
      "source": [
        "for i in range(len(\"datascience\")):\n",
        "    print(\"Data Science\\n\")"
      ]
    },
    {
      "cell_type": "markdown",
      "metadata": {},
      "source": [
        "<hr>\n",
        "    <ul>\n",
        "        <li>So</li>\n",
        "        <li>is this</li>\n",
        "        <li> the end of my project</li>\n",
        "    </ul>"
      ]
    },
    {
      "cell_type": "markdown",
      "metadata": {},
      "source": [
        "| No | Sike! | Here | is | a | damn | table | too|\n",
        "|----|-------|------|----|---|------|-------|----|\n",
        "| bye| bye   | bye  | bye|bye| bye  | bye   |  bye|\n",
        "|Hope| you  |enjoyed| a  |lot|seeing| my    |project|"
      ]
    },
    {
      "cell_type": "code",
      "execution_count": null,
      "metadata": {},
      "outputs": [],
      "source": []
    }
  ],
  "metadata": {
    "kernelspec": {
      "display_name": "Pyolite",
      "language": "python",
      "name": "python"
    },
    "language_info": {
      "codemirror_mode": {
        "name": "python",
        "version": 3
      },
      "file_extension": ".py",
      "mimetype": "text/x-python",
      "name": "python",
      "nbconvert_exporter": "python",
      "pygments_lexer": "ipython3",
      "version": "3.8"
    }
  },
  "nbformat": 4,
  "nbformat_minor": 4
}
